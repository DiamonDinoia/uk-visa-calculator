{
 "cells": [
  {
   "cell_type": "code",
   "execution_count": null,
   "metadata": {},
   "outputs": [],
   "source": [
    "import pandas as pd\n",
    "from datetime import date, datetime, timedelta\n",
    "from dateutil.relativedelta import relativedelta\n",
    "\n",
    "format_date = '%d/%m/%Y'\n",
    "travels = pd.read_csv('travel.csv', parse_dates=['start', 'end'], date_format=format_date)\n",
    "\n",
    "travels['duration'] = travels['end'] - travels['start']\n",
    "print(travels)\n",
    "print(travels['duration'].sum()) \n",
    "print(286+90)\n"
   ]
  },
  {
   "cell_type": "code",
   "execution_count": null,
   "metadata": {},
   "outputs": [],
   "source": [
    "# query the days until 01/03/2023 from one year prior\n",
    "travels.query('start > \"2023-03-01\"')"
   ]
  },
  {
   "cell_type": "code",
   "execution_count": null,
   "metadata": {},
   "outputs": [],
   "source": [
    "def get_last_year_days(start, end, now):\n",
    "    one_year_ago = now - relativedelta(years=1)\n",
    "    one_year_ago = pd.Timestamp(one_year_ago)\n",
    "    now = pd.Timestamp(now)\n",
    "    days = 0\n",
    "    if start > now:\n",
    "        return 0\n",
    "    if end < one_year_ago:\n",
    "        return 0\n",
    "    if start < one_year_ago:\n",
    "        start = one_year_ago\n",
    "    if end > now:\n",
    "        end = now\n",
    "    return (end - start).days"
   ]
  },
  {
   "cell_type": "code",
   "execution_count": null,
   "metadata": {},
   "outputs": [],
   "source": [
    "travels['today'] = travels.apply(lambda x: get_last_year_days(x.start, x.end, date(2024, 6, 1)), axis=1)\n",
    "print(travels) \n",
    "print(travels['today'].sum(), 'days')"
   ]
  },
  {
   "cell_type": "code",
   "execution_count": null,
   "metadata": {},
   "outputs": [],
   "source": [
    "def daterange(start_date, end_date):\n",
    "    for n in range(int((end_date - start_date).days)):\n",
    "        yield start_date + timedelta(n)\n",
    "\n",
    "start_date = date.today()\n",
    "end_date = date(2024, 7, 1)\n",
    "for single_date in daterange(start_date, end_date):\n",
    "    travels['today'] = travels.apply(lambda x: get_last_year_days(x.start, x.end, single_date), axis=1)\n",
    "    days = travels['today'].sum()\n",
    "    if (days > 180):\n",
    "        print(single_date, travels['today'].sum(), 'days')"
   ]
  }
 ],
 "metadata": {
  "kernelspec": {
   "display_name": "visa",
   "language": "python",
   "name": "python3"
  },
  "language_info": {
   "codemirror_mode": {
    "name": "ipython",
    "version": 3
   },
   "file_extension": ".py",
   "mimetype": "text/x-python",
   "name": "python",
   "nbconvert_exporter": "python",
   "pygments_lexer": "ipython3",
   "version": "3.10.12"
  },
  "orig_nbformat": 4
 },
 "nbformat": 4,
 "nbformat_minor": 2
}
